{
 "cells": [
  {
   "cell_type": "markdown",
   "id": "e9cb5ec3",
   "metadata": {},
   "source": [
    "<h1>Sorting algorithms</h1>\n",
    "<ul>\n",
    "    <li>Merge Sort</li>\n",
    "    <li>Quick Sort</li>\n",
    "    <li>Insertion Sort</li>\n",
    "    <li>Counting Sort</li>\n",
    "</ul>"
   ]
  },
  {
   "cell_type": "markdown",
   "id": "ac61a593",
   "metadata": {},
   "source": [
    "<h2>Merge Sort</h2>"
   ]
  },
  {
   "cell_type": "code",
   "execution_count": null,
   "id": "5ccf0ccf",
   "metadata": {},
   "outputs": [],
   "source": []
  }
 ],
 "metadata": {
  "kernelspec": {
   "display_name": "Python 3 (ipykernel)",
   "language": "python",
   "name": "python3"
  },
  "language_info": {
   "codemirror_mode": {
    "name": "ipython",
    "version": 3
   },
   "file_extension": ".py",
   "mimetype": "text/x-python",
   "name": "python",
   "nbconvert_exporter": "python",
   "pygments_lexer": "ipython3",
   "version": "3.8.5"
  }
 },
 "nbformat": 4,
 "nbformat_minor": 5
}
